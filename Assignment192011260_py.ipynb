{
  "nbformat": 4,
  "nbformat_minor": 0,
  "metadata": {
    "colab": {
      "provenance": [],
      "authorship_tag": "ABX9TyMduP5DTt5q92q4/OWVb9Ig",
      "include_colab_link": true
    },
    "kernelspec": {
      "name": "python3",
      "display_name": "Python 3"
    },
    "language_info": {
      "name": "python"
    }
  },
  "cells": [
    {
      "cell_type": "markdown",
      "metadata": {
        "id": "view-in-github",
        "colab_type": "text"
      },
      "source": [
        "<a href=\"https://colab.research.google.com/github/tbhargav-13/COMPILER-DESIGN/blob/main/Assignment192011260_py.ipynb\" target=\"_parent\"><img src=\"https://colab.research.google.com/assets/colab-badge.svg\" alt=\"Open In Colab\"/></a>"
      ]
    },
    {
      "cell_type": "code",
      "execution_count": null,
      "metadata": {
        "colab": {
          "base_uri": "https://localhost:8080/"
        },
        "id": "rG1m4v-Yg2bV",
        "outputId": "77de9bd5-9239-471f-f77f-938632ee4e2b"
      },
      "outputs": [
        {
          "output_type": "stream",
          "name": "stdout",
          "text": [
            "Enter 1st numbers:10\n",
            "Enter 2nd numbers:2\n",
            "GCD: 2\n",
            "LCM: 10\n"
          ]
        }
      ],
      "source": [
        "\n",
        "a=int(input(\"Enter 1st numbers:\"))\n",
        "b=int(input(\"Enter 2nd numbers:\"))\n",
        "af=[]\n",
        "bf=[]\n",
        "f=[]\n",
        "for i in range(1,a+1):\n",
        "    if a%i==0:\n",
        "        af.append(i)\n",
        "for i in range(1,b+1):\n",
        "    if b%i==0:\n",
        "        bf.append(i)\n",
        "for i in af:\n",
        "    if i in bf:\n",
        "        f.append(i)\n",
        "print(\"GCD:\",f[-1])\n",
        "fl=1\n",
        "i=0\n",
        "while fl==1:\n",
        "    i+=1\n",
        "    n=a*i\n",
        "    if n%b==0:\n",
        "        fl=0\n",
        "print(\"LCM:\",n)"
      ]
    },
    {
      "cell_type": "code",
      "source": [
        "a=int(input())\n",
        "s=\"\"\n",
        "while a>0:\n",
        "    c=a%2\n",
        "    s=s+str(c)\n",
        "    a=int((a-c)/2)\n",
        "print(\"Binary \",s)"
      ],
      "metadata": {
        "colab": {
          "base_uri": "https://localhost:8080/"
        },
        "id": "pNN4Lxnvsyny",
        "outputId": "98091dc6-986c-4120-8023-54f1c3faadfe"
      },
      "execution_count": null,
      "outputs": [
        {
          "output_type": "stream",
          "name": "stdout",
          "text": [
            "9\n",
            "Binary  1001\n"
          ]
        }
      ]
    },
    {
      "cell_type": "code",
      "source": [
        "a=int(input())\n",
        "i=0\n",
        "s=0\n",
        "while a>0:\n",
        "    b=a%10\n",
        "    a=int(a/10)\n",
        "    if b==1:\n",
        "        s=s+(2**i)\n",
        "    i+=1\n",
        "print(\"decimal=\",s)"
      ],
      "metadata": {
        "colab": {
          "base_uri": "https://localhost:8080/"
        },
        "id": "pmQ2mFZftR_g",
        "outputId": "e62eddbe-4b57-4519-8142-be012f46d147"
      },
      "execution_count": null,
      "outputs": [
        {
          "output_type": "stream",
          "name": "stdout",
          "text": [
            "1001\n",
            "decimal= 9\n"
          ]
        }
      ]
    },
    {
      "cell_type": "code",
      "source": [
        "from google.colab import drive\n",
        "drive.mount('/content/drive')"
      ],
      "metadata": {
        "id": "yCfLbfhAuy5X"
      },
      "execution_count": null,
      "outputs": []
    },
    {
      "cell_type": "code",
      "source": [
        "a=input(\"enter sentence\")\n",
        "b=a.count(\" \")\n",
        "c=b+1\n",
        "print(\"no of words=\",c)"
      ],
      "metadata": {
        "colab": {
          "base_uri": "https://localhost:8080/"
        },
        "id": "ZCvJEUH8tc4i",
        "outputId": "8e7a2a32-fb15-48ae-da64-5bb0f3c4c880"
      },
      "execution_count": null,
      "outputs": [
        {
          "output_type": "stream",
          "name": "stdout",
          "text": [
            "enter sentenceA bsbsb abbb\n",
            "no of words= 3\n"
          ]
        }
      ]
    },
    {
      "cell_type": "code",
      "source": [
        "a=\"abc is my name\"\n",
        "b=a.split(\" \")\n",
        "c=\"\"\n",
        "for i in b:\n",
        "    c=i+\" \"+c\n",
        "print(c)"
      ],
      "metadata": {
        "colab": {
          "base_uri": "https://localhost:8080/"
        },
        "id": "CL0bsI8AtoFm",
        "outputId": "bd0625e1-cbbd-473e-ddf6-624cc4a9471d"
      },
      "execution_count": null,
      "outputs": [
        {
          "output_type": "stream",
          "name": "stdout",
          "text": [
            "name my is abc \n"
          ]
        }
      ]
    },
    {
      "cell_type": "markdown",
      "source": [],
      "metadata": {
        "id": "QONAfhp6ubSh"
      }
    },
    {
      "cell_type": "code",
      "source": [
        "a=\"abc is my name\"\n",
        "a=a.title()\n",
        "s=\"\"\n",
        "for i in a:\n",
        "    if i==\" \":\n",
        "        s=s+\".\"\n",
        "    else:\n",
        "        s=s+i\n",
        "print(s)"
      ],
      "metadata": {
        "colab": {
          "base_uri": "https://localhost:8080/"
        },
        "id": "sXtUFzsltu83",
        "outputId": "44f576ce-fd9e-40e4-f218-98013722ad09"
      },
      "execution_count": null,
      "outputs": [
        {
          "output_type": "stream",
          "name": "stdout",
          "text": [
            "Abc.Is.My.Name\n"
          ]
        }
      ]
    },
    {
      "cell_type": "code",
      "source": [
        "a=\"my name is apple,i am from xy,currently i am pursuin x class\"\n",
        "b=a.split(\",\")\n",
        "c=\"\"\n",
        "le=0\n",
        "for i in b:\n",
        "    l=len(i)\n",
        "    if l>le:\n",
        "        le=l\n",
        "        c=i\n",
        "print(\"long sentence=\",c)"
      ],
      "metadata": {
        "colab": {
          "base_uri": "https://localhost:8080/"
        },
        "id": "oRxXuY31t0Ro",
        "outputId": "fb3ec35b-c440-4f36-b3d5-1ec13f55498f"
      },
      "execution_count": null,
      "outputs": [
        {
          "output_type": "stream",
          "name": "stdout",
          "text": [
            "long sentence= currently i am pursuin x class\n"
          ]
        }
      ]
    },
    {
      "cell_type": "code",
      "source": [
        "a=\"A ball is An ball\"\n",
        "b=0\n",
        "for i in a:\n",
        "    if i==\"A\":\n",
        "        b=b+1\n",
        "print(\"A's=\",b)"
      ],
      "metadata": {
        "colab": {
          "base_uri": "https://localhost:8080/"
        },
        "id": "BVcXbg4at4Qa",
        "outputId": "6a942731-75fc-4d9c-9502-91718c195d2e"
      },
      "execution_count": null,
      "outputs": [
        {
          "output_type": "stream",
          "name": "stdout",
          "text": [
            "A's= 2\n"
          ]
        }
      ]
    },
    {
      "cell_type": "markdown",
      "source": [],
      "metadata": {
        "id": "jr_jN__ft9Uu"
      }
    }
  ]
}